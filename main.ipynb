{
 "cells": [
  {
   "cell_type": "code",
   "execution_count": 1,
   "metadata": {},
   "outputs": [],
   "source": [
    "import os\n",
    "import pandas as pd\n",
    "import numpy as np\n",
    "import matplotlib.pyplot as plt"
   ]
  },
  {
   "cell_type": "code",
   "execution_count": 7,
   "metadata": {},
   "outputs": [],
   "source": [
    "df_users = pd.read_csv('./29CM_PJT_data/sampled_users.csv')\n",
    "df_events = pd.read_csv('29CM_PJT_data/sampled_events.csv')\n",
    "df_products = pd.read_csv('./29CM_PJT_data/sampled_products.csv')"
   ]
  },
  {
   "cell_type": "code",
   "execution_count": 32,
   "metadata": {},
   "outputs": [
    {
     "name": "stdout",
     "output_type": "stream",
     "text": [
      "<class 'pandas.core.frame.DataFrame'>\n",
      "RangeIndex: 254958 entries, 0 to 254957\n",
      "Data columns (total 3 columns):\n",
      " #   Column      Non-Null Count   Dtype \n",
      "---  ------      --------------   ----- \n",
      " 0   user_no     254958 non-null  object\n",
      " 1   birth_date  231282 non-null  object\n",
      " 2   gender      214010 non-null  object\n",
      "dtypes: object(3)\n",
      "memory usage: 5.8+ MB\n"
     ]
    }
   ],
   "source": [
    "df_users.info()"
   ]
  },
  {
   "cell_type": "code",
   "execution_count": null,
   "metadata": {},
   "outputs": [],
   "source": [
    "# ['session_id','event_timestamp','user_no','item_no']"
   ]
  },
  {
   "cell_type": "markdown",
   "metadata": {},
   "source": [
    "### df events's null\n",
    "mobile_brand_name has null 3594 <br>\n",
    "mobile_model_name has null 3594 <br>\n",
    "mobile_marketing_name has null 4250941 <br>\n",
    "country has null 12 <br>\n",
    "region has null 2195 <br>\n"
   ]
  },
  {
   "cell_type": "code",
   "execution_count": 128,
   "metadata": {},
   "outputs": [],
   "source": [
    "# group = df_events.groupby(df_events.columns[:4].tolist()).count()"
   ]
  },
  {
   "cell_type": "code",
   "execution_count": 125,
   "metadata": {},
   "outputs": [
    {
     "data": {
      "text/html": [
       "<div>\n",
       "<style scoped>\n",
       "    .dataframe tbody tr th:only-of-type {\n",
       "        vertical-align: middle;\n",
       "    }\n",
       "\n",
       "    .dataframe tbody tr th {\n",
       "        vertical-align: top;\n",
       "    }\n",
       "\n",
       "    .dataframe thead th {\n",
       "        text-align: right;\n",
       "    }\n",
       "</style>\n",
       "<table border=\"1\" class=\"dataframe\">\n",
       "  <thead>\n",
       "    <tr style=\"text-align: right;\">\n",
       "      <th></th>\n",
       "      <th>session_id</th>\n",
       "      <th>event_timestamp</th>\n",
       "      <th>event_name</th>\n",
       "      <th>user_no</th>\n",
       "      <th>item_no</th>\n",
       "      <th>device_type</th>\n",
       "      <th>mobile_brand_name</th>\n",
       "      <th>mobile_model_name</th>\n",
       "      <th>mobile_marketing_name</th>\n",
       "      <th>operating_system_version</th>\n",
       "      <th>country</th>\n",
       "      <th>region</th>\n",
       "      <th>platform</th>\n",
       "    </tr>\n",
       "  </thead>\n",
       "  <tbody>\n",
       "    <tr>\n",
       "      <th>0</th>\n",
       "      <td>c47e93742387750baba2e238558fa12d</td>\n",
       "      <td>2021-06-03 13:00:01.845</td>\n",
       "      <td>click_item</td>\n",
       "      <td>+9eODQMZ8YgXQZJJAo56nw==</td>\n",
       "      <td>4KwsZkXDulM0oQ2sTVSlYQ==</td>\n",
       "      <td>mobile</td>\n",
       "      <td>Samsung</td>\n",
       "      <td>SM-N960N</td>\n",
       "      <td>Galaxy Note9</td>\n",
       "      <td>Android 10</td>\n",
       "      <td>South Korea</td>\n",
       "      <td>Gyeonggi-do</td>\n",
       "      <td>ANDROID</td>\n",
       "    </tr>\n",
       "    <tr>\n",
       "      <th>1</th>\n",
       "      <td>f482aba7e1b76564c5404d96650f0dbd</td>\n",
       "      <td>2021-06-03 13:00:01.920001</td>\n",
       "      <td>add_to_cart</td>\n",
       "      <td>qik2Oa/1SQAjHeR64GLY0g==</td>\n",
       "      <td>+3vED/NUxtVk4Dvc0QUahA==</td>\n",
       "      <td>mobile</td>\n",
       "      <td>Samsung</td>\n",
       "      <td>SM-G977N</td>\n",
       "      <td>Galaxy S10 5G</td>\n",
       "      <td>Android 11</td>\n",
       "      <td>South Korea</td>\n",
       "      <td>Seoul</td>\n",
       "      <td>ANDROID</td>\n",
       "    </tr>\n",
       "    <tr>\n",
       "      <th>2</th>\n",
       "      <td>9af56dc40a6586dd211ca30f0a3e74d1</td>\n",
       "      <td>2021-06-03 13:00:02.35</td>\n",
       "      <td>click_item</td>\n",
       "      <td>FJJ6W70VNARaqflivNavLg==</td>\n",
       "      <td>xuuGT7/l+fld/geUzu6BkA==</td>\n",
       "      <td>mobile</td>\n",
       "      <td>Apple</td>\n",
       "      <td>iPhone</td>\n",
       "      <td>NaN</td>\n",
       "      <td>iOS 14.4.2</td>\n",
       "      <td>South Korea</td>\n",
       "      <td>Seoul</td>\n",
       "      <td>IOS</td>\n",
       "    </tr>\n",
       "    <tr>\n",
       "      <th>3</th>\n",
       "      <td>51e148afe55e6f296c0931cac6bc2c1d</td>\n",
       "      <td>2021-06-03 13:00:02.994</td>\n",
       "      <td>click_item</td>\n",
       "      <td>MsFi+mS5EhwSv+ZqTtZ53w==</td>\n",
       "      <td>FC0aiDVh1JjIXUschc44Pg==</td>\n",
       "      <td>mobile</td>\n",
       "      <td>Apple</td>\n",
       "      <td>iPhone</td>\n",
       "      <td>NaN</td>\n",
       "      <td>iOS 14.4.2</td>\n",
       "      <td>South Korea</td>\n",
       "      <td>Gyeongsangbuk-do</td>\n",
       "      <td>IOS</td>\n",
       "    </tr>\n",
       "    <tr>\n",
       "      <th>4</th>\n",
       "      <td>3316370366bdbd2fdff02e996c1b2721</td>\n",
       "      <td>2021-06-03 13:00:03.312001</td>\n",
       "      <td>add_to_cart</td>\n",
       "      <td>frWHEf/czsCEjklEIwxxKA==</td>\n",
       "      <td>yXpbzgtgRe37PEbJlBiKmQ==</td>\n",
       "      <td>mobile</td>\n",
       "      <td>Samsung</td>\n",
       "      <td>SM-G970N</td>\n",
       "      <td>Galaxy S10e</td>\n",
       "      <td>Android 11</td>\n",
       "      <td>South Korea</td>\n",
       "      <td>Seoul</td>\n",
       "      <td>ANDROID</td>\n",
       "    </tr>\n",
       "    <tr>\n",
       "      <th>...</th>\n",
       "      <td>...</td>\n",
       "      <td>...</td>\n",
       "      <td>...</td>\n",
       "      <td>...</td>\n",
       "      <td>...</td>\n",
       "      <td>...</td>\n",
       "      <td>...</td>\n",
       "      <td>...</td>\n",
       "      <td>...</td>\n",
       "      <td>...</td>\n",
       "      <td>...</td>\n",
       "      <td>...</td>\n",
       "      <td>...</td>\n",
       "    </tr>\n",
       "    <tr>\n",
       "      <th>5880402</th>\n",
       "      <td>dd2a71d30af7c856b61223bd45b54dbe</td>\n",
       "      <td>2021-08-04 12:59:53.129054</td>\n",
       "      <td>click_item</td>\n",
       "      <td>ROKDMwVDKbb9N82CptJ9dg==</td>\n",
       "      <td>xKvqk3vRvFLpCTQTqpL4ew==</td>\n",
       "      <td>mobile</td>\n",
       "      <td>Apple</td>\n",
       "      <td>iPhone</td>\n",
       "      <td>NaN</td>\n",
       "      <td>iOS 14.6</td>\n",
       "      <td>South Korea</td>\n",
       "      <td>Gyeongsangnam-do</td>\n",
       "      <td>IOS</td>\n",
       "    </tr>\n",
       "    <tr>\n",
       "      <th>5880403</th>\n",
       "      <td>1006525137f948b588322af3ffe4f7ec</td>\n",
       "      <td>2021-08-04 12:59:56.151</td>\n",
       "      <td>click_item</td>\n",
       "      <td>0nfvwBd9Qriig0lIgvtiBA==</td>\n",
       "      <td>1qWgJ5SJvbi5+mBYGH848A==</td>\n",
       "      <td>mobile</td>\n",
       "      <td>Apple</td>\n",
       "      <td>iPhone</td>\n",
       "      <td>NaN</td>\n",
       "      <td>iOS 14.6</td>\n",
       "      <td>South Korea</td>\n",
       "      <td>Gyeongsangnam-do</td>\n",
       "      <td>IOS</td>\n",
       "    </tr>\n",
       "    <tr>\n",
       "      <th>5880404</th>\n",
       "      <td>5ca46d4d8ffc29bad42d8b6fc830e364</td>\n",
       "      <td>2021-08-04 12:59:56.952028</td>\n",
       "      <td>click_item</td>\n",
       "      <td>Z0a8cvN+t0V2WInGzjkM5Q==</td>\n",
       "      <td>M9ucsQ4dNX/t1Bopo599BA==</td>\n",
       "      <td>mobile</td>\n",
       "      <td>Apple</td>\n",
       "      <td>iPhone</td>\n",
       "      <td>NaN</td>\n",
       "      <td>iOS 14.6</td>\n",
       "      <td>South Korea</td>\n",
       "      <td>Gyeonggi-do</td>\n",
       "      <td>IOS</td>\n",
       "    </tr>\n",
       "    <tr>\n",
       "      <th>5880405</th>\n",
       "      <td>184c25447f47b4c831a9771801381577</td>\n",
       "      <td>2021-08-04 12:59:58.019142</td>\n",
       "      <td>click_item</td>\n",
       "      <td>vQeO3FiA+W7bmyu2tdKuGg==</td>\n",
       "      <td>W/LoA3I9ym6wowhAdCsUvA==</td>\n",
       "      <td>mobile</td>\n",
       "      <td>Samsung</td>\n",
       "      <td>SM-G977N</td>\n",
       "      <td>Galaxy S10 5G</td>\n",
       "      <td>Android 11</td>\n",
       "      <td>South Korea</td>\n",
       "      <td>Busan</td>\n",
       "      <td>ANDROID</td>\n",
       "    </tr>\n",
       "    <tr>\n",
       "      <th>5880406</th>\n",
       "      <td>fdacda7a5859f3b7f4e0d80d0b95d544</td>\n",
       "      <td>2021-08-04 12:59:59.284045</td>\n",
       "      <td>click_item</td>\n",
       "      <td>GMv4Y+rk7KkfcR5qlFVrBQ==</td>\n",
       "      <td>1SsPsB/HdsUHnyNqKcEvuw==</td>\n",
       "      <td>mobile</td>\n",
       "      <td>Apple</td>\n",
       "      <td>iPhone</td>\n",
       "      <td>NaN</td>\n",
       "      <td>iOS 14.6</td>\n",
       "      <td>South Korea</td>\n",
       "      <td>Gyeonggi-do</td>\n",
       "      <td>IOS</td>\n",
       "    </tr>\n",
       "  </tbody>\n",
       "</table>\n",
       "<p>5880407 rows × 13 columns</p>\n",
       "</div>"
      ],
      "text/plain": [
       "                               session_id             event_timestamp  \\\n",
       "0        c47e93742387750baba2e238558fa12d     2021-06-03 13:00:01.845   \n",
       "1        f482aba7e1b76564c5404d96650f0dbd  2021-06-03 13:00:01.920001   \n",
       "2        9af56dc40a6586dd211ca30f0a3e74d1      2021-06-03 13:00:02.35   \n",
       "3        51e148afe55e6f296c0931cac6bc2c1d     2021-06-03 13:00:02.994   \n",
       "4        3316370366bdbd2fdff02e996c1b2721  2021-06-03 13:00:03.312001   \n",
       "...                                   ...                         ...   \n",
       "5880402  dd2a71d30af7c856b61223bd45b54dbe  2021-08-04 12:59:53.129054   \n",
       "5880403  1006525137f948b588322af3ffe4f7ec     2021-08-04 12:59:56.151   \n",
       "5880404  5ca46d4d8ffc29bad42d8b6fc830e364  2021-08-04 12:59:56.952028   \n",
       "5880405  184c25447f47b4c831a9771801381577  2021-08-04 12:59:58.019142   \n",
       "5880406  fdacda7a5859f3b7f4e0d80d0b95d544  2021-08-04 12:59:59.284045   \n",
       "\n",
       "          event_name                   user_no                   item_no  \\\n",
       "0         click_item  +9eODQMZ8YgXQZJJAo56nw==  4KwsZkXDulM0oQ2sTVSlYQ==   \n",
       "1        add_to_cart  qik2Oa/1SQAjHeR64GLY0g==  +3vED/NUxtVk4Dvc0QUahA==   \n",
       "2         click_item  FJJ6W70VNARaqflivNavLg==  xuuGT7/l+fld/geUzu6BkA==   \n",
       "3         click_item  MsFi+mS5EhwSv+ZqTtZ53w==  FC0aiDVh1JjIXUschc44Pg==   \n",
       "4        add_to_cart  frWHEf/czsCEjklEIwxxKA==  yXpbzgtgRe37PEbJlBiKmQ==   \n",
       "...              ...                       ...                       ...   \n",
       "5880402   click_item  ROKDMwVDKbb9N82CptJ9dg==  xKvqk3vRvFLpCTQTqpL4ew==   \n",
       "5880403   click_item  0nfvwBd9Qriig0lIgvtiBA==  1qWgJ5SJvbi5+mBYGH848A==   \n",
       "5880404   click_item  Z0a8cvN+t0V2WInGzjkM5Q==  M9ucsQ4dNX/t1Bopo599BA==   \n",
       "5880405   click_item  vQeO3FiA+W7bmyu2tdKuGg==  W/LoA3I9ym6wowhAdCsUvA==   \n",
       "5880406   click_item  GMv4Y+rk7KkfcR5qlFVrBQ==  1SsPsB/HdsUHnyNqKcEvuw==   \n",
       "\n",
       "        device_type mobile_brand_name mobile_model_name mobile_marketing_name  \\\n",
       "0            mobile           Samsung          SM-N960N          Galaxy Note9   \n",
       "1            mobile           Samsung          SM-G977N         Galaxy S10 5G   \n",
       "2            mobile             Apple            iPhone                   NaN   \n",
       "3            mobile             Apple            iPhone                   NaN   \n",
       "4            mobile           Samsung          SM-G970N           Galaxy S10e   \n",
       "...             ...               ...               ...                   ...   \n",
       "5880402      mobile             Apple            iPhone                   NaN   \n",
       "5880403      mobile             Apple            iPhone                   NaN   \n",
       "5880404      mobile             Apple            iPhone                   NaN   \n",
       "5880405      mobile           Samsung          SM-G977N         Galaxy S10 5G   \n",
       "5880406      mobile             Apple            iPhone                   NaN   \n",
       "\n",
       "        operating_system_version      country            region platform  \n",
       "0                     Android 10  South Korea       Gyeonggi-do  ANDROID  \n",
       "1                     Android 11  South Korea             Seoul  ANDROID  \n",
       "2                     iOS 14.4.2  South Korea             Seoul      IOS  \n",
       "3                     iOS 14.4.2  South Korea  Gyeongsangbuk-do      IOS  \n",
       "4                     Android 11  South Korea             Seoul  ANDROID  \n",
       "...                          ...          ...               ...      ...  \n",
       "5880402                 iOS 14.6  South Korea  Gyeongsangnam-do      IOS  \n",
       "5880403                 iOS 14.6  South Korea  Gyeongsangnam-do      IOS  \n",
       "5880404                 iOS 14.6  South Korea       Gyeonggi-do      IOS  \n",
       "5880405               Android 11  South Korea             Busan  ANDROID  \n",
       "5880406                 iOS 14.6  South Korea       Gyeonggi-do      IOS  \n",
       "\n",
       "[5880407 rows x 13 columns]"
      ]
     },
     "execution_count": 125,
     "metadata": {},
     "output_type": "execute_result"
    }
   ],
   "source": [
    "df_events"
   ]
  },
  {
   "cell_type": "code",
   "execution_count": 108,
   "metadata": {},
   "outputs": [
    {
     "name": "stdout",
     "output_type": "stream",
     "text": [
      "<class 'pandas.core.frame.DataFrame'>\n",
      "RangeIndex: 5880407 entries, 0 to 5880406\n",
      "Data columns (total 13 columns):\n",
      " #   Column                    Dtype \n",
      "---  ------                    ----- \n",
      " 0   session_id                object\n",
      " 1   event_timestamp           object\n",
      " 2   event_name                object\n",
      " 3   user_no                   object\n",
      " 4   item_no                   object\n",
      " 5   device_type               object\n",
      " 6   mobile_brand_name         object\n",
      " 7   mobile_model_name         object\n",
      " 8   mobile_marketing_name     object\n",
      " 9   operating_system_version  object\n",
      " 10  country                   object\n",
      " 11  region                    object\n",
      " 12  platform                  object\n",
      "dtypes: object(13)\n",
      "memory usage: 583.2+ MB\n"
     ]
    }
   ],
   "source": [
    "df_events.info()"
   ]
  },
  {
   "cell_type": "markdown",
   "metadata": {},
   "source": [
    "티를 5장 샀는데 Log의 low 5개가 찍혔어. 어떻게 찍혔을까 -> timestamp가 동일하게 찍힐까? <br>\n",
    "\n",
    "데이터 테이블은 PK가 필수가 아니에요 <br>\n",
    "\n",
    "PK 없는 데이터 테이블이에요. <br>\n",
    "FK 두 개."
   ]
  },
  {
   "cell_type": "markdown",
   "metadata": {},
   "source": [
    "그 다음 안건 \n",
    "티 5장 샀을때 두 가지 방법으로 Log \n",
    "5개의 로우\n",
    "\n",
    "1000 티\n",
    "\n",
    "세션 1 네임 1 price * 5 "
   ]
  },
  {
   "cell_type": "markdown",
   "metadata": {},
   "source": [
    "- 전환율이 낮은 카테고리에 대해 분석하고 입점할 수 있는 브랜드를 제안해보자\n",
    "- 고객 가치 향상을 위한 유저 행동 분석\n",
    "- 29CM 브랜드 분석을 통한 신규 브랜드 사 입점 가이드 제안\n",
    "- 29cm의 미션, 'Guide to Better choice\"에 적합한 KPI 제안을 위한 데이터 분석"
   ]
  },
  {
   "cell_type": "code",
   "execution_count": null,
   "metadata": {},
   "outputs": [],
   "source": [
    "# 재구매율 -> 옷 한 상품에 대한 재구매율보다는\n",
    "# 여러 사이트중에서 29 cm 다시 선택이유\n",
    "\n",
    "# 막내가 할까요..?\n",
    "# 제가 할까요? 벌써.. \n",
    "# 오늘 얘기 제가 정리하겠습니다 !! (말려주세요 기경님) 데일리 공지랑 회의록 쓰러가겠습니다.\n",
    "# 좋은 밤.. 되십셔 ... ㅎㅎㅎ... ㅎㅎㅎㅎㅎ... 넵 ㅎㅎ\n",
    "# 좋아요 !ㅋㅋㅋㅋㅋㅋㅋㅋㅋㅋㅋㅋㅋㅋㅋㅋㅋㅋㅋㅋㅋㅋㅋㅋㅋㅋㅋㅋㅋㅋㅋㅋㅋㅋ\n",
    "# 좋은밤되십셔 !!!\n",
    "# "
   ]
  },
  {
   "cell_type": "code",
   "execution_count": 133,
   "metadata": {},
   "outputs": [
    {
     "data": {
      "text/plain": [
       "array(['click_item', 'add_to_cart', 'purchase_success', 'like_item'],\n",
       "      dtype=object)"
      ]
     },
     "execution_count": 133,
     "metadata": {},
     "output_type": "execute_result"
    }
   ],
   "source": [
    "df_events.event_name.unique()"
   ]
  },
  {
   "cell_type": "code",
   "execution_count": 118,
   "metadata": {},
   "outputs": [
    {
     "data": {
      "text/html": [
       "<div>\n",
       "<style scoped>\n",
       "    .dataframe tbody tr th:only-of-type {\n",
       "        vertical-align: middle;\n",
       "    }\n",
       "\n",
       "    .dataframe tbody tr th {\n",
       "        vertical-align: top;\n",
       "    }\n",
       "\n",
       "    .dataframe thead th {\n",
       "        text-align: right;\n",
       "    }\n",
       "</style>\n",
       "<table border=\"1\" class=\"dataframe\">\n",
       "  <thead>\n",
       "    <tr style=\"text-align: right;\">\n",
       "      <th></th>\n",
       "      <th>session_id</th>\n",
       "      <th>event_timestamp</th>\n",
       "      <th>event_name</th>\n",
       "      <th>user_no</th>\n",
       "      <th>item_no</th>\n",
       "      <th>device_type</th>\n",
       "      <th>mobile_brand_name</th>\n",
       "      <th>mobile_model_name</th>\n",
       "      <th>mobile_marketing_name</th>\n",
       "      <th>operating_system_version</th>\n",
       "      <th>country</th>\n",
       "      <th>region</th>\n",
       "      <th>platform</th>\n",
       "    </tr>\n",
       "  </thead>\n",
       "  <tbody>\n",
       "    <tr>\n",
       "      <th>0</th>\n",
       "      <td>c47e93742387750baba2e238558fa12d</td>\n",
       "      <td>2021-06-03 13:00:01.845</td>\n",
       "      <td>click_item</td>\n",
       "      <td>+9eODQMZ8YgXQZJJAo56nw==</td>\n",
       "      <td>4KwsZkXDulM0oQ2sTVSlYQ==</td>\n",
       "      <td>mobile</td>\n",
       "      <td>Samsung</td>\n",
       "      <td>SM-N960N</td>\n",
       "      <td>Galaxy Note9</td>\n",
       "      <td>Android 10</td>\n",
       "      <td>South Korea</td>\n",
       "      <td>Gyeonggi-do</td>\n",
       "      <td>ANDROID</td>\n",
       "    </tr>\n",
       "    <tr>\n",
       "      <th>26568</th>\n",
       "      <td>2bcc4af4c42cbf5517d08a8db524d2eb</td>\n",
       "      <td>2021-06-03 19:52:18.571039</td>\n",
       "      <td>click_item</td>\n",
       "      <td>l1wFRhb3av5rTWyYEofrIA==</td>\n",
       "      <td>4KwsZkXDulM0oQ2sTVSlYQ==</td>\n",
       "      <td>mobile</td>\n",
       "      <td>Apple</td>\n",
       "      <td>iPhone X</td>\n",
       "      <td>NaN</td>\n",
       "      <td>iOS 14.4.2</td>\n",
       "      <td>South Korea</td>\n",
       "      <td>Gyeonggi-do</td>\n",
       "      <td>IOS</td>\n",
       "    </tr>\n",
       "    <tr>\n",
       "      <th>78640</th>\n",
       "      <td>3dd29f805a9ff2f1f8096c5b89b5abb8</td>\n",
       "      <td>2021-06-04 09:49:50.607015</td>\n",
       "      <td>add_to_cart</td>\n",
       "      <td>Y5GM63HPuFwrRnvYhDu7sQ==</td>\n",
       "      <td>4KwsZkXDulM0oQ2sTVSlYQ==</td>\n",
       "      <td>mobile</td>\n",
       "      <td>Samsung</td>\n",
       "      <td>SM-G977N</td>\n",
       "      <td>Galaxy S10 5G</td>\n",
       "      <td>Android 11</td>\n",
       "      <td>South Korea</td>\n",
       "      <td>Seoul</td>\n",
       "      <td>ANDROID</td>\n",
       "    </tr>\n",
       "    <tr>\n",
       "      <th>78641</th>\n",
       "      <td>3dd29f805a9ff2f1f8096c5b89b5abb8</td>\n",
       "      <td>2021-06-04 09:49:50.619016</td>\n",
       "      <td>add_to_cart</td>\n",
       "      <td>Y5GM63HPuFwrRnvYhDu7sQ==</td>\n",
       "      <td>4KwsZkXDulM0oQ2sTVSlYQ==</td>\n",
       "      <td>mobile</td>\n",
       "      <td>Samsung</td>\n",
       "      <td>SM-G977N</td>\n",
       "      <td>Galaxy S10 5G</td>\n",
       "      <td>Android 11</td>\n",
       "      <td>South Korea</td>\n",
       "      <td>Seoul</td>\n",
       "      <td>ANDROID</td>\n",
       "    </tr>\n",
       "    <tr>\n",
       "      <th>79054</th>\n",
       "      <td>066dc27413b75008fc29ec8d0663898c</td>\n",
       "      <td>2021-06-04 09:56:14.863165</td>\n",
       "      <td>click_item</td>\n",
       "      <td>ryHs/qZ/8bZNC7h+QIQWqw==</td>\n",
       "      <td>4KwsZkXDulM0oQ2sTVSlYQ==</td>\n",
       "      <td>mobile</td>\n",
       "      <td>Apple</td>\n",
       "      <td>iPhone</td>\n",
       "      <td>NaN</td>\n",
       "      <td>iOS 14.6</td>\n",
       "      <td>South Korea</td>\n",
       "      <td>Jeollanam-do</td>\n",
       "      <td>IOS</td>\n",
       "    </tr>\n",
       "    <tr>\n",
       "      <th>...</th>\n",
       "      <td>...</td>\n",
       "      <td>...</td>\n",
       "      <td>...</td>\n",
       "      <td>...</td>\n",
       "      <td>...</td>\n",
       "      <td>...</td>\n",
       "      <td>...</td>\n",
       "      <td>...</td>\n",
       "      <td>...</td>\n",
       "      <td>...</td>\n",
       "      <td>...</td>\n",
       "      <td>...</td>\n",
       "      <td>...</td>\n",
       "    </tr>\n",
       "    <tr>\n",
       "      <th>4708656</th>\n",
       "      <td>4602cbfa21886bc1efe2b1d86c960c03</td>\n",
       "      <td>2021-07-22 01:08:47.706111</td>\n",
       "      <td>click_item</td>\n",
       "      <td>qn0A0Ee+m+ltoWx7DtOetA==</td>\n",
       "      <td>4KwsZkXDulM0oQ2sTVSlYQ==</td>\n",
       "      <td>mobile</td>\n",
       "      <td>Samsung</td>\n",
       "      <td>SM-G960N</td>\n",
       "      <td>Galaxy S9</td>\n",
       "      <td>Android 10</td>\n",
       "      <td>South Korea</td>\n",
       "      <td>Seoul</td>\n",
       "      <td>ANDROID</td>\n",
       "    </tr>\n",
       "    <tr>\n",
       "      <th>4708757</th>\n",
       "      <td>4602cbfa21886bc1efe2b1d86c960c03</td>\n",
       "      <td>2021-07-22 01:10:14.898142</td>\n",
       "      <td>click_item</td>\n",
       "      <td>qn0A0Ee+m+ltoWx7DtOetA==</td>\n",
       "      <td>4KwsZkXDulM0oQ2sTVSlYQ==</td>\n",
       "      <td>mobile</td>\n",
       "      <td>Samsung</td>\n",
       "      <td>SM-G960N</td>\n",
       "      <td>Galaxy S9</td>\n",
       "      <td>Android 10</td>\n",
       "      <td>South Korea</td>\n",
       "      <td>Seoul</td>\n",
       "      <td>ANDROID</td>\n",
       "    </tr>\n",
       "    <tr>\n",
       "      <th>5025738</th>\n",
       "      <td>51664f0984aca38f90b50f0a21fea631</td>\n",
       "      <td>2021-07-25 17:52:01.874057</td>\n",
       "      <td>click_item</td>\n",
       "      <td>R9c8jrafnmatUnIpfD3zYw==</td>\n",
       "      <td>4KwsZkXDulM0oQ2sTVSlYQ==</td>\n",
       "      <td>mobile</td>\n",
       "      <td>Apple</td>\n",
       "      <td>iPhone X</td>\n",
       "      <td>NaN</td>\n",
       "      <td>iOS 14.6</td>\n",
       "      <td>South Korea</td>\n",
       "      <td>Gyeonggi-do</td>\n",
       "      <td>IOS</td>\n",
       "    </tr>\n",
       "    <tr>\n",
       "      <th>5453231</th>\n",
       "      <td>fe9f08e394cfc900e836cdffa97a48f9</td>\n",
       "      <td>2021-07-30 13:34:08.925014</td>\n",
       "      <td>click_item</td>\n",
       "      <td>QtFdvI8g7RHfKhJdwmkrqw==</td>\n",
       "      <td>4KwsZkXDulM0oQ2sTVSlYQ==</td>\n",
       "      <td>mobile</td>\n",
       "      <td>Apple</td>\n",
       "      <td>iPhone XR</td>\n",
       "      <td>NaN</td>\n",
       "      <td>iOS 14.6</td>\n",
       "      <td>South Korea</td>\n",
       "      <td>Ulsan</td>\n",
       "      <td>IOS</td>\n",
       "    </tr>\n",
       "    <tr>\n",
       "      <th>5458857</th>\n",
       "      <td>4a49c952f1fedcbf64c90f0f245cf68a</td>\n",
       "      <td>2021-07-30 15:33:25.598027</td>\n",
       "      <td>click_item</td>\n",
       "      <td>oBiQqPCBIAA9wJNizbKdNQ==</td>\n",
       "      <td>4KwsZkXDulM0oQ2sTVSlYQ==</td>\n",
       "      <td>mobile</td>\n",
       "      <td>Apple</td>\n",
       "      <td>iPhone</td>\n",
       "      <td>NaN</td>\n",
       "      <td>iOS 14.6</td>\n",
       "      <td>South Korea</td>\n",
       "      <td>Seoul</td>\n",
       "      <td>IOS</td>\n",
       "    </tr>\n",
       "  </tbody>\n",
       "</table>\n",
       "<p>126 rows × 13 columns</p>\n",
       "</div>"
      ],
      "text/plain": [
       "                               session_id             event_timestamp  \\\n",
       "0        c47e93742387750baba2e238558fa12d     2021-06-03 13:00:01.845   \n",
       "26568    2bcc4af4c42cbf5517d08a8db524d2eb  2021-06-03 19:52:18.571039   \n",
       "78640    3dd29f805a9ff2f1f8096c5b89b5abb8  2021-06-04 09:49:50.607015   \n",
       "78641    3dd29f805a9ff2f1f8096c5b89b5abb8  2021-06-04 09:49:50.619016   \n",
       "79054    066dc27413b75008fc29ec8d0663898c  2021-06-04 09:56:14.863165   \n",
       "...                                   ...                         ...   \n",
       "4708656  4602cbfa21886bc1efe2b1d86c960c03  2021-07-22 01:08:47.706111   \n",
       "4708757  4602cbfa21886bc1efe2b1d86c960c03  2021-07-22 01:10:14.898142   \n",
       "5025738  51664f0984aca38f90b50f0a21fea631  2021-07-25 17:52:01.874057   \n",
       "5453231  fe9f08e394cfc900e836cdffa97a48f9  2021-07-30 13:34:08.925014   \n",
       "5458857  4a49c952f1fedcbf64c90f0f245cf68a  2021-07-30 15:33:25.598027   \n",
       "\n",
       "          event_name                   user_no                   item_no  \\\n",
       "0         click_item  +9eODQMZ8YgXQZJJAo56nw==  4KwsZkXDulM0oQ2sTVSlYQ==   \n",
       "26568     click_item  l1wFRhb3av5rTWyYEofrIA==  4KwsZkXDulM0oQ2sTVSlYQ==   \n",
       "78640    add_to_cart  Y5GM63HPuFwrRnvYhDu7sQ==  4KwsZkXDulM0oQ2sTVSlYQ==   \n",
       "78641    add_to_cart  Y5GM63HPuFwrRnvYhDu7sQ==  4KwsZkXDulM0oQ2sTVSlYQ==   \n",
       "79054     click_item  ryHs/qZ/8bZNC7h+QIQWqw==  4KwsZkXDulM0oQ2sTVSlYQ==   \n",
       "...              ...                       ...                       ...   \n",
       "4708656   click_item  qn0A0Ee+m+ltoWx7DtOetA==  4KwsZkXDulM0oQ2sTVSlYQ==   \n",
       "4708757   click_item  qn0A0Ee+m+ltoWx7DtOetA==  4KwsZkXDulM0oQ2sTVSlYQ==   \n",
       "5025738   click_item  R9c8jrafnmatUnIpfD3zYw==  4KwsZkXDulM0oQ2sTVSlYQ==   \n",
       "5453231   click_item  QtFdvI8g7RHfKhJdwmkrqw==  4KwsZkXDulM0oQ2sTVSlYQ==   \n",
       "5458857   click_item  oBiQqPCBIAA9wJNizbKdNQ==  4KwsZkXDulM0oQ2sTVSlYQ==   \n",
       "\n",
       "        device_type mobile_brand_name mobile_model_name mobile_marketing_name  \\\n",
       "0            mobile           Samsung          SM-N960N          Galaxy Note9   \n",
       "26568        mobile             Apple          iPhone X                   NaN   \n",
       "78640        mobile           Samsung          SM-G977N         Galaxy S10 5G   \n",
       "78641        mobile           Samsung          SM-G977N         Galaxy S10 5G   \n",
       "79054        mobile             Apple            iPhone                   NaN   \n",
       "...             ...               ...               ...                   ...   \n",
       "4708656      mobile           Samsung          SM-G960N             Galaxy S9   \n",
       "4708757      mobile           Samsung          SM-G960N             Galaxy S9   \n",
       "5025738      mobile             Apple          iPhone X                   NaN   \n",
       "5453231      mobile             Apple         iPhone XR                   NaN   \n",
       "5458857      mobile             Apple            iPhone                   NaN   \n",
       "\n",
       "        operating_system_version      country        region platform  \n",
       "0                     Android 10  South Korea   Gyeonggi-do  ANDROID  \n",
       "26568                 iOS 14.4.2  South Korea   Gyeonggi-do      IOS  \n",
       "78640                 Android 11  South Korea         Seoul  ANDROID  \n",
       "78641                 Android 11  South Korea         Seoul  ANDROID  \n",
       "79054                   iOS 14.6  South Korea  Jeollanam-do      IOS  \n",
       "...                          ...          ...           ...      ...  \n",
       "4708656               Android 10  South Korea         Seoul  ANDROID  \n",
       "4708757               Android 10  South Korea         Seoul  ANDROID  \n",
       "5025738                 iOS 14.6  South Korea   Gyeonggi-do      IOS  \n",
       "5453231                 iOS 14.6  South Korea         Ulsan      IOS  \n",
       "5458857                 iOS 14.6  South Korea         Seoul      IOS  \n",
       "\n",
       "[126 rows x 13 columns]"
      ]
     },
     "execution_count": 118,
     "metadata": {},
     "output_type": "execute_result"
    }
   ],
   "source": [
    "# 그럼 다섯 줄 ?\n",
    "a = df_events.item_no.unique()[0]\n",
    "# price / events price * 5 = 개수 = 5\n",
    "df_events[df_events.item_no == a]"
   ]
  },
  {
   "cell_type": "code",
   "execution_count": 103,
   "metadata": {},
   "outputs": [
    {
     "data": {
      "text/plain": [
       "1425915"
      ]
     },
     "execution_count": 103,
     "metadata": {},
     "output_type": "execute_result"
    }
   ],
   "source": [
    "# 웹 Log \n",
    "\n",
    "len(df_events.session_id.unique())"
   ]
  },
  {
   "cell_type": "code",
   "execution_count": 107,
   "metadata": {},
   "outputs": [
    {
     "data": {
      "text/plain": [
       "254958"
      ]
     },
     "execution_count": 107,
     "metadata": {},
     "output_type": "execute_result"
    }
   ],
   "source": [
    "len(df_events.user_no.unique())"
   ]
  },
  {
   "cell_type": "code",
   "execution_count": 105,
   "metadata": {},
   "outputs": [
    {
     "data": {
      "text/plain": [
       "254958"
      ]
     },
     "execution_count": 105,
     "metadata": {},
     "output_type": "execute_result"
    }
   ],
   "source": [
    "len(df_users.user_no.unique())"
   ]
  },
  {
   "cell_type": "code",
   "execution_count": 134,
   "metadata": {},
   "outputs": [
    {
     "name": "stdout",
     "output_type": "stream",
     "text": [
      "user_no\n"
     ]
    }
   ],
   "source": [
    "for col in df_users.columns:\n",
    "    if df_users[col].is_unique:\n",
    "        print(col)"
   ]
  },
  {
   "cell_type": "code",
   "execution_count": 135,
   "metadata": {},
   "outputs": [],
   "source": [
    "df_events # log data \n",
    "for col in df_events.columns:\n",
    "    if df_events[col].is_unique:\n",
    "        print(col)"
   ]
  },
  {
   "cell_type": "code",
   "execution_count": 136,
   "metadata": {},
   "outputs": [
    {
     "name": "stdout",
     "output_type": "stream",
     "text": [
      "item_no\n",
      "image_name\n"
     ]
    }
   ],
   "source": [
    "for col in df_products.columns:\n",
    "    if df_products[col].is_unique:\n",
    "        print(col)"
   ]
  },
  {
   "cell_type": "code",
   "execution_count": 84,
   "metadata": {},
   "outputs": [
    {
     "name": "stdout",
     "output_type": "stream",
     "text": [
      "user_no\n"
     ]
    }
   ],
   "source": [
    "for col in df_users.columns:\n",
    "    if df_users[col].is_unique:\n",
    "        print(col)"
   ]
  },
  {
   "cell_type": "code",
   "execution_count": 78,
   "metadata": {},
   "outputs": [
    {
     "data": {
      "text/plain": [
       "True"
      ]
     },
     "execution_count": 78,
     "metadata": {},
     "output_type": "execute_result"
    }
   ],
   "source": [
    "df_products.item_no.is_unique"
   ]
  },
  {
   "cell_type": "code",
   "execution_count": 71,
   "metadata": {},
   "outputs": [
    {
     "data": {
      "text/plain": [
       "Index(['user_no', 'birth_date', 'gender'], dtype='object')"
      ]
     },
     "execution_count": 71,
     "metadata": {},
     "output_type": "execute_result"
    }
   ],
   "source": [
    "df_users.columns"
   ]
  },
  {
   "cell_type": "code",
   "execution_count": null,
   "metadata": {},
   "outputs": [],
   "source": []
  }
 ],
 "metadata": {
  "kernelspec": {
   "display_name": "Python 3.8.13 ('tch')",
   "language": "python",
   "name": "python3"
  },
  "language_info": {
   "codemirror_mode": {
    "name": "ipython",
    "version": 3
   },
   "file_extension": ".py",
   "mimetype": "text/x-python",
   "name": "python",
   "nbconvert_exporter": "python",
   "pygments_lexer": "ipython3",
   "version": "3.8.13"
  },
  "orig_nbformat": 4,
  "vscode": {
   "interpreter": {
    "hash": "89231c4b1ab169a6c26f21a4d8b5e43081c1fa59b600dda2d4ccd8dff446c398"
   }
  }
 },
 "nbformat": 4,
 "nbformat_minor": 2
}
